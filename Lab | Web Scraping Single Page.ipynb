{
 "cells": [
  {
   "cell_type": "markdown",
   "id": "639dff0f",
   "metadata": {},
   "source": [
    "# GNOD part 1"
   ]
  },
  {
   "cell_type": "code",
   "execution_count": 1,
   "id": "18625922",
   "metadata": {},
   "outputs": [],
   "source": [
    "from bs4 import BeautifulSoup\n",
    "import requests\n",
    "import pandas as pd"
   ]
  },
  {
   "cell_type": "code",
   "execution_count": 2,
   "id": "5fcefe79",
   "metadata": {},
   "outputs": [],
   "source": [
    "#  find url and store it in a variable\n",
    "url = \"https://www.popvortex.com/music/charts/top-100-songs.php\""
   ]
  },
  {
   "cell_type": "code",
   "execution_count": 3,
   "id": "6a7b80a6",
   "metadata": {},
   "outputs": [
    {
     "data": {
      "text/plain": [
       "200"
      ]
     },
     "execution_count": 3,
     "metadata": {},
     "output_type": "execute_result"
    }
   ],
   "source": [
    "# download html with a get request\n",
    "response = requests.get(url)\n",
    "response.status_code "
   ]
  },
  {
   "cell_type": "code",
   "execution_count": 4,
   "id": "181add36",
   "metadata": {},
   "outputs": [],
   "source": [
    "# parse html (create the 'soup')\n",
    "soup = BeautifulSoup(response.content, \"html.parser\")"
   ]
  },
  {
   "cell_type": "code",
   "execution_count": 5,
   "id": "48b0206a",
   "metadata": {},
   "outputs": [],
   "source": [
    "# check that the html code looks like it should\n",
    "#soup"
   ]
  },
  {
   "cell_type": "code",
   "execution_count": 6,
   "id": "53e19c7a",
   "metadata": {},
   "outputs": [],
   "source": [
    "#soup.select(\"body > div.container > div:nth-child(4) > div.col-xs-12.col-md-8 > div.chart-wrapper\")\n",
    "# all the info about all the top 100 songs"
   ]
  },
  {
   "cell_type": "code",
   "execution_count": 7,
   "id": "ddd112e6",
   "metadata": {},
   "outputs": [
    {
     "data": {
      "text/plain": [
       "[<p class=\"chart-position\">1</p>,\n",
       " <p class=\"title-artist\"><cite class=\"title\">Separate Ways (Worlds Apart) [feat. Lzzy Hale]</cite><em class=\"artist\">Daughtry</em></p>,\n",
       " <p class=\"chart-position\">2</p>,\n",
       " <p class=\"title-artist\"><cite class=\"title\">Unholy</cite><em class=\"artist\">Sam Smith &amp; Kim Petras</em></p>,\n",
       " <p class=\"chart-position\">3</p>,\n",
       " <p class=\"title-artist\"><cite class=\"title\">Anti-Hero</cite><em class=\"artist\">Taylor Swift</em></p>,\n",
       " <p class=\"chart-position\">4</p>,\n",
       " <p class=\"title-artist\"><cite class=\"title\">Heart Like A Truck</cite><em class=\"artist\">Lainey Wilson</em></p>,\n",
       " <p class=\"chart-position\">5</p>,\n",
       " <p class=\"title-artist\"><cite class=\"title\">Son Of A Sinner</cite><em class=\"artist\">Jelly Roll</em></p>,\n",
       " <p class=\"chart-position\">6</p>,\n",
       " <p class=\"title-artist\"><cite class=\"title\">Temperature</cite><em class=\"artist\">Sean Paul</em></p>,\n",
       " <p class=\"chart-position\">7</p>,\n",
       " <p class=\"title-artist\"><cite class=\"title\">Made You Look</cite><em class=\"artist\">Meghan Trainor</em></p>,\n",
       " <p class=\"chart-position\">8</p>,\n",
       " <p class=\"title-artist\"><cite class=\"title\">wait in the truck</cite><em class=\"artist\">HARDY &amp; Lainey Wilson</em></p>,\n",
       " <p class=\"chart-position\">9</p>,\n",
       " <p class=\"title-artist\"><cite class=\"title\">Lift Me Up (From Black Panther: Wakanda Forever - Music From and Inspired By)</cite><em class=\"artist\">Rihanna</em></p>,\n",
       " <p class=\"chart-position\">10</p>,\n",
       " <p class=\"title-artist\"><cite class=\"title\">Thought You Should Know</cite><em class=\"artist\">Morgan Wallen</em></p>,\n",
       " <p class=\"chart-position\">11</p>,\n",
       " <p class=\"title-artist\"><cite class=\"title\">Bloody Mary</cite><em class=\"artist\">Lady Gaga</em></p>,\n",
       " <p class=\"chart-position\">12</p>,\n",
       " <p class=\"title-artist\"><cite class=\"title\">Thank God</cite><em class=\"artist\">Kane Brown &amp; Katelyn Brown</em></p>,\n",
       " <p class=\"chart-position\">13</p>,\n",
       " <p class=\"title-artist\"><cite class=\"title\">Unstoppable</cite><em class=\"artist\">Sia</em></p>,\n",
       " <p class=\"chart-position\">14</p>,\n",
       " <p class=\"title-artist\"><cite class=\"title\">I Ain't Worried</cite><em class=\"artist\">OneRepublic</em></p>,\n",
       " <p class=\"chart-position\">15</p>,\n",
       " <p class=\"title-artist\"><cite class=\"title\">Something in the Orange (Z&amp;E's Version)</cite><em class=\"artist\">Zach Bryan</em></p>,\n",
       " <p class=\"chart-position\">16</p>,\n",
       " <p class=\"title-artist\"><cite class=\"title\">I'm Good (Blue)</cite><em class=\"artist\">David Guetta &amp; Bebe Rexha</em></p>,\n",
       " <p class=\"chart-position\">17</p>,\n",
       " <p class=\"title-artist\"><cite class=\"title\">As It Was</cite><em class=\"artist\">Harry Styles</em></p>,\n",
       " <p class=\"chart-position\">18</p>,\n",
       " <p class=\"title-artist\"><cite class=\"title\">Ghost</cite><em class=\"artist\">Tom MacDonald</em></p>,\n",
       " <p class=\"chart-position\">19</p>,\n",
       " <p class=\"title-artist\"><cite class=\"title\">Rock and a Hard Place</cite><em class=\"artist\">Bailey Zimmerman</em></p>,\n",
       " <p class=\"chart-position\">20</p>,\n",
       " <p class=\"title-artist\"><cite class=\"title\">One Thing At A Time</cite><em class=\"artist\">Morgan Wallen</em></p>,\n",
       " <p class=\"chart-position\">21</p>,\n",
       " <p class=\"title-artist\"><cite class=\"title\">Players</cite><em class=\"artist\">Coi Leray</em></p>,\n",
       " <p class=\"chart-position\">22</p>,\n",
       " <p class=\"title-artist\"><cite class=\"title\">No Horse To Ride</cite><em class=\"artist\">Luke Grimes</em></p>,\n",
       " <p class=\"chart-position\">23</p>,\n",
       " <p class=\"title-artist\"><cite class=\"title\">You Proof</cite><em class=\"artist\">Morgan Wallen</em></p>,\n",
       " <p class=\"chart-position\">24</p>,\n",
       " <p class=\"title-artist\"><cite class=\"title\">Wasted On You</cite><em class=\"artist\">Morgan Wallen</em></p>,\n",
       " <p class=\"chart-position\">25</p>,\n",
       " <p class=\"title-artist\"><cite class=\"title\">Calm Down</cite><em class=\"artist\">Rema &amp; Selena Gomez</em></p>,\n",
       " <p class=\"chart-position\">26</p>,\n",
       " <p class=\"title-artist\"><cite class=\"title\">Mine</cite><em class=\"artist\">Bazzi</em></p>,\n",
       " <p class=\"chart-position\">27</p>,\n",
       " <p class=\"title-artist\"><cite class=\"title\">Hold My Hand</cite><em class=\"artist\">Lady Gaga</em></p>,\n",
       " <p class=\"chart-position\">28</p>,\n",
       " <p class=\"title-artist\"><cite class=\"title\">golden hour</cite><em class=\"artist\">JVKE</em></p>,\n",
       " <p class=\"chart-position\">29</p>,\n",
       " <p class=\"title-artist\"><cite class=\"title\">Cooler Than Me (Single Mix)</cite><em class=\"artist\">Mike Posner</em></p>,\n",
       " <p class=\"chart-position\">30</p>,\n",
       " <p class=\"title-artist\"><cite class=\"title\">I'm Good (Blue)</cite><em class=\"artist\">David Guetta &amp; Bebe Rexha</em></p>,\n",
       " <p class=\"chart-position\">31</p>,\n",
       " <p class=\"title-artist\"><cite class=\"title\">Fall In Love</cite><em class=\"artist\">Bailey Zimmerman</em></p>,\n",
       " <p class=\"chart-position\">32</p>,\n",
       " <p class=\"title-artist\"><cite class=\"title\">Creepin'</cite><em class=\"artist\">Metro Boomin, The Weeknd &amp; 21 Savage</em></p>,\n",
       " <p class=\"chart-position\">33</p>,\n",
       " <p class=\"title-artist\"><cite class=\"title\">The Kind of Love We Make</cite><em class=\"artist\">Luke Combs</em></p>,\n",
       " <p class=\"chart-position\">34</p>,\n",
       " <p class=\"title-artist\"><cite class=\"title\">Giddy Up!</cite><em class=\"artist\">Shania Twain</em></p>,\n",
       " <p class=\"chart-position\">35</p>,\n",
       " <p class=\"title-artist\"><cite class=\"title\">Memory Lane</cite><em class=\"artist\">Old Dominion</em></p>,\n",
       " <p class=\"chart-position\">36</p>,\n",
       " <p class=\"title-artist\"><cite class=\"title\">CUFF IT</cite><em class=\"artist\">Beyoncé</em></p>,\n",
       " <p class=\"chart-position\">37</p>,\n",
       " <p class=\"title-artist\"><cite class=\"title\">Hold Me Closer</cite><em class=\"artist\">Elton John &amp; Britney Spears</em></p>,\n",
       " <p class=\"chart-position\">38</p>,\n",
       " <p class=\"title-artist\"><cite class=\"title\">Kill Bill</cite><em class=\"artist\">SZA</em></p>,\n",
       " <p class=\"chart-position\">39</p>,\n",
       " <p class=\"title-artist\"><cite class=\"title\">Gratitude</cite><em class=\"artist\">Brandon Lake</em></p>,\n",
       " <p class=\"chart-position\">40</p>,\n",
       " <p class=\"title-artist\"><cite class=\"title\">Under the Influence</cite><em class=\"artist\">Chris Brown</em></p>,\n",
       " <p class=\"chart-position\">41</p>,\n",
       " <p class=\"title-artist\"><cite class=\"title\">Going, Going, Gone</cite><em class=\"artist\">Luke Combs</em></p>,\n",
       " <p class=\"chart-position\">42</p>,\n",
       " <p class=\"title-artist\"><cite class=\"title\">The Summoning</cite><em class=\"artist\">Sleep Token</em></p>,\n",
       " <p class=\"chart-position\">43</p>,\n",
       " <p class=\"title-artist\"><cite class=\"title\">Tishomingo</cite><em class=\"artist\">Zach Bryan</em></p>,\n",
       " <p class=\"chart-position\">44</p>,\n",
       " <p class=\"title-artist\"><cite class=\"title\">Just Pretend</cite><em class=\"artist\">Bad Omens</em></p>,\n",
       " <p class=\"chart-position\">45</p>,\n",
       " <p class=\"title-artist\"><cite class=\"title\">Bebe Dame</cite><em class=\"artist\">Fuerza Regida &amp; Grupo Frontera</em></p>,\n",
       " <p class=\"chart-position\">46</p>,\n",
       " <p class=\"title-artist\"><cite class=\"title\">Never Been to Spain</cite><em class=\"artist\">Three Dog Night</em></p>,\n",
       " <p class=\"chart-position\">47</p>,\n",
       " <p class=\"title-artist\"><cite class=\"title\">About Damn Time</cite><em class=\"artist\">Lizzo</em></p>,\n",
       " <p class=\"chart-position\">48</p>,\n",
       " <p class=\"title-artist\"><cite class=\"title\">Beautiful Liar</cite><em class=\"artist\">MONSTA X</em></p>,\n",
       " <p class=\"chart-position\">49</p>,\n",
       " <p class=\"title-artist\"><cite class=\"title\">What My World Spins Around</cite><em class=\"artist\">Jordan Davis</em></p>,\n",
       " <p class=\"chart-position\">50</p>,\n",
       " <p class=\"title-artist\"><cite class=\"title\">Daydream</cite><em class=\"artist\">Lily Meola</em></p>,\n",
       " <p class=\"chart-position\">51</p>,\n",
       " <p class=\"title-artist\"><cite class=\"title\">Que Vuelvas</cite><em class=\"artist\">Carin Leon &amp; Grupo Frontera</em></p>,\n",
       " <p class=\"chart-position\">52</p>,\n",
       " <p class=\"title-artist\"><cite class=\"title\">Wreckage</cite><em class=\"artist\">Nate Smith</em></p>,\n",
       " <p class=\"chart-position\">53</p>,\n",
       " <p class=\"title-artist\"><cite class=\"title\">Watermelon Moonshine</cite><em class=\"artist\">Lainey Wilson</em></p>,\n",
       " <p class=\"chart-position\">54</p>,\n",
       " <p class=\"title-artist\"><cite class=\"title\">NEED A FAVOR</cite><em class=\"artist\">Jelly Roll</em></p>,\n",
       " <p class=\"chart-position\">55</p>,\n",
       " <p class=\"title-artist\"><cite class=\"title\">Tennessee Whiskey</cite><em class=\"artist\">Chris Stapleton</em></p>,\n",
       " <p class=\"chart-position\">56</p>,\n",
       " <p class=\"title-artist\"><cite class=\"title\">Shivers</cite><em class=\"artist\">Ed Sheeran</em></p>,\n",
       " <p class=\"chart-position\">57</p>,\n",
       " <p class=\"title-artist\"><cite class=\"title\">Die For You</cite><em class=\"artist\">The Weeknd</em></p>,\n",
       " <p class=\"chart-position\">58</p>,\n",
       " <p class=\"title-artist\"><cite class=\"title\">In the Air Tonight</cite><em class=\"artist\">Phil Collins</em></p>,\n",
       " <p class=\"chart-position\">59</p>,\n",
       " <p class=\"title-artist\"><cite class=\"title\">Sober</cite><em class=\"artist\">P!nk</em></p>,\n",
       " <p class=\"chart-position\">60</p>,\n",
       " <p class=\"title-artist\"><cite class=\"title\">Run Away to Mars</cite><em class=\"artist\">TALK</em></p>,\n",
       " <p class=\"chart-position\">61</p>,\n",
       " <p class=\"title-artist\"><cite class=\"title\">Chasin' You</cite><em class=\"artist\">Morgan Wallen</em></p>,\n",
       " <p class=\"chart-position\">62</p>,\n",
       " <p class=\"title-artist\"><cite class=\"title\">Holding Out for a Hero</cite><em class=\"artist\">Adam Lambert</em></p>,\n",
       " <p class=\"chart-position\">63</p>,\n",
       " <p class=\"title-artist\"><cite class=\"title\">Me For Me</cite><em class=\"artist\">Tyler Hubbard</em></p>,\n",
       " <p class=\"chart-position\">64</p>,\n",
       " <p class=\"title-artist\"><cite class=\"title\">Victoria’s Secret</cite><em class=\"artist\">Jax</em></p>,\n",
       " <p class=\"chart-position\">65</p>,\n",
       " <p class=\"title-artist\"><cite class=\"title\">How Do I Say Goodbye</cite><em class=\"artist\">Dean Lewis</em></p>,\n",
       " <p class=\"chart-position\">66</p>,\n",
       " <p class=\"title-artist\"><cite class=\"title\">Yes I Do</cite><em class=\"artist\">French Montana</em></p>,\n",
       " <p class=\"chart-position\">67</p>,\n",
       " <p class=\"title-artist\"><cite class=\"title\">Something in the Orange</cite><em class=\"artist\">Zach Bryan</em></p>,\n",
       " <p class=\"chart-position\">68</p>,\n",
       " <p class=\"title-artist\"><cite class=\"title\">Just Wanna Rock</cite><em class=\"artist\">Lil Uzi Vert</em></p>,\n",
       " <p class=\"chart-position\">69</p>,\n",
       " <p class=\"title-artist\"><cite class=\"title\">Easier Said with Rum</cite><em class=\"artist\">Old Dominion</em></p>,\n",
       " <p class=\"chart-position\">70</p>,\n",
       " <p class=\"title-artist\"><cite class=\"title\">Cold Heart (PNAU Remix)</cite><em class=\"artist\">Elton John &amp; Dua Lipa</em></p>,\n",
       " <p class=\"chart-position\">71</p>,\n",
       " <p class=\"title-artist\"><cite class=\"title\">I'm a Believer</cite><em class=\"artist\">The Monkees</em></p>,\n",
       " <p class=\"chart-position\">72</p>,\n",
       " <p class=\"title-artist\"><cite class=\"title\">Forget Me</cite><em class=\"artist\">Lewis Capaldi</em></p>,\n",
       " <p class=\"chart-position\">73</p>,\n",
       " <p class=\"title-artist\"><cite class=\"title\">Goo Goo Muck</cite><em class=\"artist\">The Cramps</em></p>,\n",
       " <p class=\"chart-position\">74</p>,\n",
       " <p class=\"title-artist\"><cite class=\"title\">Million Dollar Baby</cite><em class=\"artist\">Ava Max</em></p>,\n",
       " <p class=\"chart-position\">75</p>,\n",
       " <p class=\"title-artist\"><cite class=\"title\">Hey There Delilah</cite><em class=\"artist\">Plain White T's</em></p>,\n",
       " <p class=\"chart-position\">76</p>,\n",
       " <p class=\"title-artist\"><cite class=\"title\">'Til You Can't</cite><em class=\"artist\">Cody Johnson</em></p>,\n",
       " <p class=\"chart-position\">77</p>,\n",
       " <p class=\"title-artist\"><cite class=\"title\">She Had Me At Heads Carolina</cite><em class=\"artist\">Cole Swindell</em></p>,\n",
       " <p class=\"chart-position\">78</p>,\n",
       " <p class=\"title-artist\"><cite class=\"title\">You Say</cite><em class=\"artist\">Lauren Daigle</em></p>,\n",
       " <p class=\"chart-position\">79</p>,\n",
       " <p class=\"title-artist\"><cite class=\"title\">Way of the Triune God (Hallelujah Version)</cite><em class=\"artist\">Tyler Childers</em></p>,\n",
       " <p class=\"chart-position\">80</p>,\n",
       " <p class=\"title-artist\"><cite class=\"title\">Until I Found You</cite><em class=\"artist\">Stephen Sanchez</em></p>,\n",
       " <p class=\"chart-position\">81</p>,\n",
       " <p class=\"title-artist\"><cite class=\"title\">Sunroof</cite><em class=\"artist\">Nicky Youre &amp; Dazy</em></p>,\n",
       " <p class=\"chart-position\">82</p>,\n",
       " <p class=\"title-artist\"><cite class=\"title\">Tennessee Orange</cite><em class=\"artist\">Megan Moroney</em></p>,\n",
       " <p class=\"chart-position\">83</p>,\n",
       " <p class=\"title-artist\"><cite class=\"title\">Free Smoke (feat. BIG30)</cite><em class=\"artist\">French Montana, DJ Drama &amp; EST Gee</em></p>,\n",
       " <p class=\"chart-position\">84</p>,\n",
       " <p class=\"title-artist\"><cite class=\"title\">Rich Flex</cite><em class=\"artist\">Drake &amp; 21 Savage</em></p>,\n",
       " <p class=\"chart-position\">85</p>,\n",
       " <p class=\"title-artist\"><cite class=\"title\">Escapism.</cite><em class=\"artist\">RAYE &amp; 070 Shake</em></p>,\n",
       " <p class=\"chart-position\">86</p>,\n",
       " <p class=\"title-artist\"><cite class=\"title\">Things A Man Oughta Know</cite><em class=\"artist\">Lainey Wilson</em></p>,\n",
       " <p class=\"chart-position\">87</p>,\n",
       " <p class=\"title-artist\"><cite class=\"title\">New Punani</cite><em class=\"artist\">French Montana, DJ Drama &amp; Cheeze</em></p>,\n",
       " <p class=\"chart-position\">88</p>,\n",
       " <p class=\"title-artist\"><cite class=\"title\">Going Yeezy</cite><em class=\"artist\">French Montana, DJ Drama &amp; Cheeze</em></p>,\n",
       " <p class=\"chart-position\">89</p>,\n",
       " <p class=\"title-artist\"><cite class=\"title\">Bones</cite><em class=\"artist\">Imagine Dragons</em></p>,\n",
       " <p class=\"chart-position\">90</p>,\n",
       " <p class=\"title-artist\"><cite class=\"title\">Handle On You</cite><em class=\"artist\">Parker McCollum</em></p>,\n",
       " <p class=\"chart-position\">91</p>,\n",
       " <p class=\"title-artist\"><cite class=\"title\">I'll Be Waiting</cite><em class=\"artist\">Cian Ducrot</em></p>,\n",
       " <p class=\"chart-position\">92</p>,\n",
       " <p class=\"title-artist\"><cite class=\"title\">Igloo</cite><em class=\"artist\">French Montana, DJ Drama &amp; Rob49</em></p>,\n",
       " <p class=\"chart-position\">93</p>,\n",
       " <p class=\"title-artist\"><cite class=\"title\">Goodness of God (Live)</cite><em class=\"artist\">CeCe Winans</em></p>,\n",
       " <p class=\"chart-position\">94</p>,\n",
       " <p class=\"title-artist\"><cite class=\"title\">The Oath</cite><em class=\"artist\">Chinx, DJ Drama &amp; French Montana</em></p>,\n",
       " <p class=\"chart-position\">95</p>,\n",
       " <p class=\"title-artist\"><cite class=\"title\">He Stopped Loving Her Today</cite><em class=\"artist\">George Jones</em></p>,\n",
       " <p class=\"chart-position\">96</p>,\n",
       " <p class=\"title-artist\"><cite class=\"title\">CUFF IT</cite><em class=\"artist\">Beyoncé</em></p>,\n",
       " <p class=\"chart-position\">97</p>,\n",
       " <p class=\"title-artist\"><cite class=\"title\">Bad Habit</cite><em class=\"artist\">Steve Lacy</em></p>,\n",
       " <p class=\"chart-position\">98</p>,\n",
       " <p class=\"title-artist\"><cite class=\"title\">10:35</cite><em class=\"artist\">Tiësto &amp; Tate McRae</em></p>,\n",
       " <p class=\"chart-position\">99</p>,\n",
       " <p class=\"title-artist\"><cite class=\"title\">Fenty</cite><em class=\"artist\">French Montana &amp; NAV</em></p>]"
      ]
     },
     "execution_count": 7,
     "metadata": {},
     "output_type": "execute_result"
    }
   ],
   "source": [
    "# retrieve/extract the desired info (here, you'll paste the \"Selector\" you copied before to get the element that belongs to the top 100 songs)\n",
    "soup.select(\"div.chart-wrapper p\")"
   ]
  },
  {
   "cell_type": "code",
   "execution_count": 8,
   "id": "4d33b5f5",
   "metadata": {},
   "outputs": [
    {
     "data": {
      "text/plain": [
       "'Separate Ways (Worlds Apart) [feat. Lzzy Hale]Daughtry'"
      ]
     },
     "execution_count": 8,
     "metadata": {},
     "output_type": "execute_result"
    }
   ],
   "source": [
    "soup.select(\"div.chart-wrapper p.title-artist \")[0]\n",
    "soup.select(\"div.chart-wrapper p.title-artist\")[0].get_text()"
   ]
  },
  {
   "cell_type": "code",
   "execution_count": 9,
   "id": "eaa8dfb6",
   "metadata": {},
   "outputs": [
    {
     "data": {
      "text/plain": [
       "[<cite class=\"title\">Separate Ways (Worlds Apart) [feat. Lzzy Hale]</cite>,\n",
       " <cite class=\"title\">Unholy</cite>,\n",
       " <cite class=\"title\">Anti-Hero</cite>,\n",
       " <cite class=\"title\">Heart Like A Truck</cite>,\n",
       " <cite class=\"title\">Son Of A Sinner</cite>,\n",
       " <cite class=\"title\">Temperature</cite>,\n",
       " <cite class=\"title\">Made You Look</cite>,\n",
       " <cite class=\"title\">wait in the truck</cite>,\n",
       " <cite class=\"title\">Lift Me Up (From Black Panther: Wakanda Forever - Music From and Inspired By)</cite>,\n",
       " <cite class=\"title\">Thought You Should Know</cite>,\n",
       " <cite class=\"title\">Bloody Mary</cite>,\n",
       " <cite class=\"title\">Thank God</cite>,\n",
       " <cite class=\"title\">Unstoppable</cite>,\n",
       " <cite class=\"title\">I Ain't Worried</cite>,\n",
       " <cite class=\"title\">Something in the Orange (Z&amp;E's Version)</cite>,\n",
       " <cite class=\"title\">I'm Good (Blue)</cite>,\n",
       " <cite class=\"title\">As It Was</cite>,\n",
       " <cite class=\"title\">Ghost</cite>,\n",
       " <cite class=\"title\">Rock and a Hard Place</cite>,\n",
       " <cite class=\"title\">One Thing At A Time</cite>,\n",
       " <cite class=\"title\">Players</cite>,\n",
       " <cite class=\"title\">No Horse To Ride</cite>,\n",
       " <cite class=\"title\">You Proof</cite>,\n",
       " <cite class=\"title\">Wasted On You</cite>,\n",
       " <cite class=\"title\">Calm Down</cite>,\n",
       " <cite class=\"title\">Mine</cite>,\n",
       " <cite class=\"title\">Hold My Hand</cite>,\n",
       " <cite class=\"title\">golden hour</cite>,\n",
       " <cite class=\"title\">Cooler Than Me (Single Mix)</cite>,\n",
       " <cite class=\"title\">I'm Good (Blue)</cite>,\n",
       " <cite class=\"title\">Fall In Love</cite>,\n",
       " <cite class=\"title\">Creepin'</cite>,\n",
       " <cite class=\"title\">The Kind of Love We Make</cite>,\n",
       " <cite class=\"title\">Giddy Up!</cite>,\n",
       " <cite class=\"title\">Memory Lane</cite>,\n",
       " <cite class=\"title\">CUFF IT</cite>,\n",
       " <cite class=\"title\">Hold Me Closer</cite>,\n",
       " <cite class=\"title\">Kill Bill</cite>,\n",
       " <cite class=\"title\">Gratitude</cite>,\n",
       " <cite class=\"title\">Under the Influence</cite>,\n",
       " <cite class=\"title\">Going, Going, Gone</cite>,\n",
       " <cite class=\"title\">The Summoning</cite>,\n",
       " <cite class=\"title\">Tishomingo</cite>,\n",
       " <cite class=\"title\">Just Pretend</cite>,\n",
       " <cite class=\"title\">Bebe Dame</cite>,\n",
       " <cite class=\"title\">Never Been to Spain</cite>,\n",
       " <cite class=\"title\">About Damn Time</cite>,\n",
       " <cite class=\"title\">Beautiful Liar</cite>,\n",
       " <cite class=\"title\">What My World Spins Around</cite>,\n",
       " <cite class=\"title\">Daydream</cite>,\n",
       " <cite class=\"title\">Que Vuelvas</cite>,\n",
       " <cite class=\"title\">Wreckage</cite>,\n",
       " <cite class=\"title\">Watermelon Moonshine</cite>,\n",
       " <cite class=\"title\">NEED A FAVOR</cite>,\n",
       " <cite class=\"title\">Tennessee Whiskey</cite>,\n",
       " <cite class=\"title\">Shivers</cite>,\n",
       " <cite class=\"title\">Die For You</cite>,\n",
       " <cite class=\"title\">In the Air Tonight</cite>,\n",
       " <cite class=\"title\">Sober</cite>,\n",
       " <cite class=\"title\">Run Away to Mars</cite>,\n",
       " <cite class=\"title\">Chasin' You</cite>,\n",
       " <cite class=\"title\">Holding Out for a Hero</cite>,\n",
       " <cite class=\"title\">Me For Me</cite>,\n",
       " <cite class=\"title\">Victoria’s Secret</cite>,\n",
       " <cite class=\"title\">How Do I Say Goodbye</cite>,\n",
       " <cite class=\"title\">Yes I Do</cite>,\n",
       " <cite class=\"title\">Something in the Orange</cite>,\n",
       " <cite class=\"title\">Just Wanna Rock</cite>,\n",
       " <cite class=\"title\">Easier Said with Rum</cite>,\n",
       " <cite class=\"title\">Cold Heart (PNAU Remix)</cite>,\n",
       " <cite class=\"title\">I'm a Believer</cite>,\n",
       " <cite class=\"title\">Forget Me</cite>,\n",
       " <cite class=\"title\">Goo Goo Muck</cite>,\n",
       " <cite class=\"title\">Million Dollar Baby</cite>,\n",
       " <cite class=\"title\">Hey There Delilah</cite>,\n",
       " <cite class=\"title\">'Til You Can't</cite>,\n",
       " <cite class=\"title\">She Had Me At Heads Carolina</cite>,\n",
       " <cite class=\"title\">You Say</cite>,\n",
       " <cite class=\"title\">Way of the Triune God (Hallelujah Version)</cite>,\n",
       " <cite class=\"title\">Until I Found You</cite>,\n",
       " <cite class=\"title\">Sunroof</cite>,\n",
       " <cite class=\"title\">Tennessee Orange</cite>,\n",
       " <cite class=\"title\">Free Smoke (feat. BIG30)</cite>,\n",
       " <cite class=\"title\">Rich Flex</cite>,\n",
       " <cite class=\"title\">Escapism.</cite>,\n",
       " <cite class=\"title\">Things A Man Oughta Know</cite>,\n",
       " <cite class=\"title\">New Punani</cite>,\n",
       " <cite class=\"title\">Going Yeezy</cite>,\n",
       " <cite class=\"title\">Bones</cite>,\n",
       " <cite class=\"title\">Handle On You</cite>,\n",
       " <cite class=\"title\">I'll Be Waiting</cite>,\n",
       " <cite class=\"title\">Igloo</cite>,\n",
       " <cite class=\"title\">Goodness of God (Live)</cite>,\n",
       " <cite class=\"title\">The Oath</cite>,\n",
       " <cite class=\"title\">He Stopped Loving Her Today</cite>,\n",
       " <cite class=\"title\">CUFF IT</cite>,\n",
       " <cite class=\"title\">Bad Habit</cite>,\n",
       " <cite class=\"title\">10:35</cite>,\n",
       " <cite class=\"title\">Fenty</cite>]"
      ]
     },
     "execution_count": 9,
     "metadata": {},
     "output_type": "execute_result"
    }
   ],
   "source": [
    "soup.select('cite.title')"
   ]
  },
  {
   "cell_type": "code",
   "execution_count": 10,
   "id": "b117f434",
   "metadata": {},
   "outputs": [
    {
     "data": {
      "text/plain": [
       "[<em class=\"artist\">Daughtry</em>,\n",
       " <em class=\"artist\">Sam Smith &amp; Kim Petras</em>,\n",
       " <em class=\"artist\">Taylor Swift</em>,\n",
       " <em class=\"artist\">Lainey Wilson</em>,\n",
       " <em class=\"artist\">Jelly Roll</em>,\n",
       " <em class=\"artist\">Sean Paul</em>,\n",
       " <em class=\"artist\">Meghan Trainor</em>,\n",
       " <em class=\"artist\">HARDY &amp; Lainey Wilson</em>,\n",
       " <em class=\"artist\">Rihanna</em>,\n",
       " <em class=\"artist\">Morgan Wallen</em>,\n",
       " <em class=\"artist\">Lady Gaga</em>,\n",
       " <em class=\"artist\">Kane Brown &amp; Katelyn Brown</em>,\n",
       " <em class=\"artist\">Sia</em>,\n",
       " <em class=\"artist\">OneRepublic</em>,\n",
       " <em class=\"artist\">Zach Bryan</em>,\n",
       " <em class=\"artist\">David Guetta &amp; Bebe Rexha</em>,\n",
       " <em class=\"artist\">Harry Styles</em>,\n",
       " <em class=\"artist\">Tom MacDonald</em>,\n",
       " <em class=\"artist\">Bailey Zimmerman</em>,\n",
       " <em class=\"artist\">Morgan Wallen</em>,\n",
       " <em class=\"artist\">Coi Leray</em>,\n",
       " <em class=\"artist\">Luke Grimes</em>,\n",
       " <em class=\"artist\">Morgan Wallen</em>,\n",
       " <em class=\"artist\">Morgan Wallen</em>,\n",
       " <em class=\"artist\">Rema &amp; Selena Gomez</em>,\n",
       " <em class=\"artist\">Bazzi</em>,\n",
       " <em class=\"artist\">Lady Gaga</em>,\n",
       " <em class=\"artist\">JVKE</em>,\n",
       " <em class=\"artist\">Mike Posner</em>,\n",
       " <em class=\"artist\">David Guetta &amp; Bebe Rexha</em>,\n",
       " <em class=\"artist\">Bailey Zimmerman</em>,\n",
       " <em class=\"artist\">Metro Boomin, The Weeknd &amp; 21 Savage</em>,\n",
       " <em class=\"artist\">Luke Combs</em>,\n",
       " <em class=\"artist\">Shania Twain</em>,\n",
       " <em class=\"artist\">Old Dominion</em>,\n",
       " <em class=\"artist\">Beyoncé</em>,\n",
       " <em class=\"artist\">Elton John &amp; Britney Spears</em>,\n",
       " <em class=\"artist\">SZA</em>,\n",
       " <em class=\"artist\">Brandon Lake</em>,\n",
       " <em class=\"artist\">Chris Brown</em>,\n",
       " <em class=\"artist\">Luke Combs</em>,\n",
       " <em class=\"artist\">Sleep Token</em>,\n",
       " <em class=\"artist\">Zach Bryan</em>,\n",
       " <em class=\"artist\">Bad Omens</em>,\n",
       " <em class=\"artist\">Fuerza Regida &amp; Grupo Frontera</em>,\n",
       " <em class=\"artist\">Three Dog Night</em>,\n",
       " <em class=\"artist\">Lizzo</em>,\n",
       " <em class=\"artist\">MONSTA X</em>,\n",
       " <em class=\"artist\">Jordan Davis</em>,\n",
       " <em class=\"artist\">Lily Meola</em>,\n",
       " <em class=\"artist\">Carin Leon &amp; Grupo Frontera</em>,\n",
       " <em class=\"artist\">Nate Smith</em>,\n",
       " <em class=\"artist\">Lainey Wilson</em>,\n",
       " <em class=\"artist\">Jelly Roll</em>,\n",
       " <em class=\"artist\">Chris Stapleton</em>,\n",
       " <em class=\"artist\">Ed Sheeran</em>,\n",
       " <em class=\"artist\">The Weeknd</em>,\n",
       " <em class=\"artist\">Phil Collins</em>,\n",
       " <em class=\"artist\">P!nk</em>,\n",
       " <em class=\"artist\">TALK</em>,\n",
       " <em class=\"artist\">Morgan Wallen</em>,\n",
       " <em class=\"artist\">Adam Lambert</em>,\n",
       " <em class=\"artist\">Tyler Hubbard</em>,\n",
       " <em class=\"artist\">Jax</em>,\n",
       " <em class=\"artist\">Dean Lewis</em>,\n",
       " <em class=\"artist\">French Montana</em>,\n",
       " <em class=\"artist\">Zach Bryan</em>,\n",
       " <em class=\"artist\">Lil Uzi Vert</em>,\n",
       " <em class=\"artist\">Old Dominion</em>,\n",
       " <em class=\"artist\">Elton John &amp; Dua Lipa</em>,\n",
       " <em class=\"artist\">The Monkees</em>,\n",
       " <em class=\"artist\">Lewis Capaldi</em>,\n",
       " <em class=\"artist\">The Cramps</em>,\n",
       " <em class=\"artist\">Ava Max</em>,\n",
       " <em class=\"artist\">Plain White T's</em>,\n",
       " <em class=\"artist\">Cody Johnson</em>,\n",
       " <em class=\"artist\">Cole Swindell</em>,\n",
       " <em class=\"artist\">Lauren Daigle</em>,\n",
       " <em class=\"artist\">Tyler Childers</em>,\n",
       " <em class=\"artist\">Stephen Sanchez</em>,\n",
       " <em class=\"artist\">Nicky Youre &amp; Dazy</em>,\n",
       " <em class=\"artist\">Megan Moroney</em>,\n",
       " <em class=\"artist\">French Montana, DJ Drama &amp; EST Gee</em>,\n",
       " <em class=\"artist\">Drake &amp; 21 Savage</em>,\n",
       " <em class=\"artist\">RAYE &amp; 070 Shake</em>,\n",
       " <em class=\"artist\">Lainey Wilson</em>,\n",
       " <em class=\"artist\">French Montana, DJ Drama &amp; Cheeze</em>,\n",
       " <em class=\"artist\">French Montana, DJ Drama &amp; Cheeze</em>,\n",
       " <em class=\"artist\">Imagine Dragons</em>,\n",
       " <em class=\"artist\">Parker McCollum</em>,\n",
       " <em class=\"artist\">Cian Ducrot</em>,\n",
       " <em class=\"artist\">French Montana, DJ Drama &amp; Rob49</em>,\n",
       " <em class=\"artist\">CeCe Winans</em>,\n",
       " <em class=\"artist\">Chinx, DJ Drama &amp; French Montana</em>,\n",
       " <em class=\"artist\">George Jones</em>,\n",
       " <em class=\"artist\">Beyoncé</em>,\n",
       " <em class=\"artist\">Steve Lacy</em>,\n",
       " <em class=\"artist\">Tiësto &amp; Tate McRae</em>,\n",
       " <em class=\"artist\">French Montana &amp; NAV</em>]"
      ]
     },
     "execution_count": 10,
     "metadata": {},
     "output_type": "execute_result"
    }
   ],
   "source": [
    "soup.select('em.artist')"
   ]
  },
  {
   "cell_type": "code",
   "execution_count": 11,
   "id": "0e3d99a7",
   "metadata": {},
   "outputs": [
    {
     "name": "stdout",
     "output_type": "stream",
     "text": [
      "Separate Ways (Worlds Apart) [feat. Lzzy Hale]\n",
      "Daughtry\n"
     ]
    }
   ],
   "source": [
    "print(soup.select('cite.title')[0].get_text())\n",
    "print(soup.select('em.artist')[0].get_text())"
   ]
  },
  {
   "cell_type": "code",
   "execution_count": 12,
   "id": "5191fce9",
   "metadata": {},
   "outputs": [
    {
     "name": "stdout",
     "output_type": "stream",
     "text": [
      "['Separate Ways (Worlds Apart) [feat. Lzzy Hale]', 'Unholy', 'Anti-Hero', 'Heart Like A Truck', 'Son Of A Sinner', 'Temperature', 'Made You Look', 'wait in the truck', 'Lift Me Up (From Black Panther: Wakanda Forever - Music From and Inspired By)', 'Thought You Should Know', 'Bloody Mary', 'Thank God', 'Unstoppable', \"I Ain't Worried\", \"Something in the Orange (Z&E's Version)\", \"I'm Good (Blue)\", 'As It Was', 'Ghost', 'Rock and a Hard Place', 'One Thing At A Time', 'Players', 'No Horse To Ride', 'You Proof', 'Wasted On You', 'Calm Down', 'Mine', 'Hold My Hand', 'golden hour', 'Cooler Than Me (Single Mix)', \"I'm Good (Blue)\", 'Fall In Love', \"Creepin'\", 'The Kind of Love We Make', 'Giddy Up!', 'Memory Lane', 'CUFF IT', 'Hold Me Closer', 'Kill Bill', 'Gratitude', 'Under the Influence', 'Going, Going, Gone', 'The Summoning', 'Tishomingo', 'Just Pretend', 'Bebe Dame', 'Never Been to Spain', 'About Damn Time', 'Beautiful Liar', 'What My World Spins Around', 'Daydream', 'Que Vuelvas', 'Wreckage', 'Watermelon Moonshine', 'NEED A FAVOR', 'Tennessee Whiskey', 'Shivers', 'Die For You', 'In the Air Tonight', 'Sober', 'Run Away to Mars', \"Chasin' You\", 'Holding Out for a Hero', 'Me For Me', 'Victoria’s Secret', 'How Do I Say Goodbye', 'Yes I Do', 'Something in the Orange', 'Just Wanna Rock', 'Easier Said with Rum', 'Cold Heart (PNAU Remix)', \"I'm a Believer\", 'Forget Me', 'Goo Goo Muck', 'Million Dollar Baby', 'Hey There Delilah', \"'Til You Can't\", 'She Had Me At Heads Carolina', 'You Say', 'Way of the Triune God (Hallelujah Version)', 'Until I Found You', 'Sunroof', 'Tennessee Orange', 'Free Smoke (feat. BIG30)', 'Rich Flex', 'Escapism.', 'Things A Man Oughta Know', 'New Punani', 'Going Yeezy', 'Bones', 'Handle On You', \"I'll Be Waiting\", 'Igloo', 'Goodness of God (Live)', 'The Oath', 'He Stopped Loving Her Today', 'CUFF IT', 'Bad Habit', '10:35', 'Fenty']\n",
      "['Daughtry', 'Sam Smith & Kim Petras', 'Taylor Swift', 'Lainey Wilson', 'Jelly Roll', 'Sean Paul', 'Meghan Trainor', 'HARDY & Lainey Wilson', 'Rihanna', 'Morgan Wallen', 'Lady Gaga', 'Kane Brown & Katelyn Brown', 'Sia', 'OneRepublic', 'Zach Bryan', 'David Guetta & Bebe Rexha', 'Harry Styles', 'Tom MacDonald', 'Bailey Zimmerman', 'Morgan Wallen', 'Coi Leray', 'Luke Grimes', 'Morgan Wallen', 'Morgan Wallen', 'Rema & Selena Gomez', 'Bazzi', 'Lady Gaga', 'JVKE', 'Mike Posner', 'David Guetta & Bebe Rexha', 'Bailey Zimmerman', 'Metro Boomin, The Weeknd & 21 Savage', 'Luke Combs', 'Shania Twain', 'Old Dominion', 'Beyoncé', 'Elton John & Britney Spears', 'SZA', 'Brandon Lake', 'Chris Brown', 'Luke Combs', 'Sleep Token', 'Zach Bryan', 'Bad Omens', 'Fuerza Regida & Grupo Frontera', 'Three Dog Night', 'Lizzo', 'MONSTA X', 'Jordan Davis', 'Lily Meola', 'Carin Leon & Grupo Frontera', 'Nate Smith', 'Lainey Wilson', 'Jelly Roll', 'Chris Stapleton', 'Ed Sheeran', 'The Weeknd', 'Phil Collins', 'P!nk', 'TALK', 'Morgan Wallen', 'Adam Lambert', 'Tyler Hubbard', 'Jax', 'Dean Lewis', 'French Montana', 'Zach Bryan', 'Lil Uzi Vert', 'Old Dominion', 'Elton John & Dua Lipa', 'The Monkees', 'Lewis Capaldi', 'The Cramps', 'Ava Max', \"Plain White T's\", 'Cody Johnson', 'Cole Swindell', 'Lauren Daigle', 'Tyler Childers', 'Stephen Sanchez', 'Nicky Youre & Dazy', 'Megan Moroney', 'French Montana, DJ Drama & EST Gee', 'Drake & 21 Savage', 'RAYE & 070 Shake', 'Lainey Wilson', 'French Montana, DJ Drama & Cheeze', 'French Montana, DJ Drama & Cheeze', 'Imagine Dragons', 'Parker McCollum', 'Cian Ducrot', 'French Montana, DJ Drama & Rob49', 'CeCe Winans', 'Chinx, DJ Drama & French Montana', 'George Jones', 'Beyoncé', 'Steve Lacy', 'Tiësto & Tate McRae', 'French Montana & NAV']\n"
     ]
    }
   ],
   "source": [
    "#initialize empty lists\n",
    "title = []\n",
    "artist = []\n",
    "\n",
    "\n",
    "\n",
    "# define the number of iterations of our for loop\n",
    "# by checking how many elements are in the retrieved result set\n",
    "# (this is equivalent but more robust than just explicitly defining 250 iterations)\n",
    "num_iter = len(soup.select(\"div.chart-wrapper p.title-artist\"))\n",
    "\n",
    "t_list = soup.select(\"cite.title\")\n",
    "art_list = soup.select(\"em.artist\")\n",
    "# iterate through the result set and retrive all the data\n",
    "for i in range(num_iter):\n",
    "    title.append(t_list[i].get_text())\n",
    "    artist.append(art_list[i].get_text())\n",
    "    \n",
    "\n",
    "print(title)\n",
    "print(artist)"
   ]
  },
  {
   "cell_type": "code",
   "execution_count": 13,
   "id": "adc471f7",
   "metadata": {},
   "outputs": [],
   "source": [
    "# each list becomes a column\n",
    "top_100_songs = pd.DataFrame({\"title\":title,\n",
    "                       \"artist\":artist,\n",
    "                      })"
   ]
  },
  {
   "cell_type": "code",
   "execution_count": 14,
   "id": "2cc13652",
   "metadata": {},
   "outputs": [
    {
     "data": {
      "text/html": [
       "<div>\n",
       "<style scoped>\n",
       "    .dataframe tbody tr th:only-of-type {\n",
       "        vertical-align: middle;\n",
       "    }\n",
       "\n",
       "    .dataframe tbody tr th {\n",
       "        vertical-align: top;\n",
       "    }\n",
       "\n",
       "    .dataframe thead th {\n",
       "        text-align: right;\n",
       "    }\n",
       "</style>\n",
       "<table border=\"1\" class=\"dataframe\">\n",
       "  <thead>\n",
       "    <tr style=\"text-align: right;\">\n",
       "      <th></th>\n",
       "      <th>title</th>\n",
       "      <th>artist</th>\n",
       "    </tr>\n",
       "  </thead>\n",
       "  <tbody>\n",
       "    <tr>\n",
       "      <th>0</th>\n",
       "      <td>Separate Ways (Worlds Apart) [feat. Lzzy Hale]</td>\n",
       "      <td>Daughtry</td>\n",
       "    </tr>\n",
       "    <tr>\n",
       "      <th>1</th>\n",
       "      <td>Unholy</td>\n",
       "      <td>Sam Smith &amp; Kim Petras</td>\n",
       "    </tr>\n",
       "    <tr>\n",
       "      <th>2</th>\n",
       "      <td>Anti-Hero</td>\n",
       "      <td>Taylor Swift</td>\n",
       "    </tr>\n",
       "    <tr>\n",
       "      <th>3</th>\n",
       "      <td>Heart Like A Truck</td>\n",
       "      <td>Lainey Wilson</td>\n",
       "    </tr>\n",
       "    <tr>\n",
       "      <th>4</th>\n",
       "      <td>Son Of A Sinner</td>\n",
       "      <td>Jelly Roll</td>\n",
       "    </tr>\n",
       "  </tbody>\n",
       "</table>\n",
       "</div>"
      ],
      "text/plain": [
       "                                            title                  artist\n",
       "0  Separate Ways (Worlds Apart) [feat. Lzzy Hale]                Daughtry\n",
       "1                                          Unholy  Sam Smith & Kim Petras\n",
       "2                                       Anti-Hero            Taylor Swift\n",
       "3                              Heart Like A Truck           Lainey Wilson\n",
       "4                                 Son Of A Sinner              Jelly Roll"
      ]
     },
     "execution_count": 14,
     "metadata": {},
     "output_type": "execute_result"
    }
   ],
   "source": [
    "top_100_songs.head()"
   ]
  },
  {
   "cell_type": "code",
   "execution_count": 15,
   "id": "64fe8983",
   "metadata": {},
   "outputs": [
    {
     "data": {
      "text/plain": [
       "99"
      ]
     },
     "execution_count": 15,
     "metadata": {},
     "output_type": "execute_result"
    }
   ],
   "source": [
    "len(top_100_songs)"
   ]
  },
  {
   "cell_type": "markdown",
   "id": "ed80ef89",
   "metadata": {},
   "source": [
    "# GNOD part 2"
   ]
  },
  {
   "cell_type": "code",
   "execution_count": 30,
   "id": "343e43cf",
   "metadata": {},
   "outputs": [],
   "source": [
    "import random\n",
    "hot_songs= top_100_songs['title'].tolist()"
   ]
  },
  {
   "cell_type": "code",
   "execution_count": 42,
   "id": "5302ce28",
   "metadata": {},
   "outputs": [
    {
     "name": "stdout",
     "output_type": "stream",
     "text": [
      "Enter the name of the song you're looking for: Anti-Hero\n",
      "Anti-Hero is in the list\n",
      " We recommend you listen to wait in the truck\n"
     ]
    }
   ],
   "source": [
    "song_name = input(\"Enter the name of the song you're looking for: \")\n",
    "\n",
    "\n",
    "\n",
    "if song_name in hot_songs:\n",
    "    print(song_name + ' ' + 'is in the list')\n",
    "    hot_songs.remove(song_name)\n",
    "    print(\" We recommend you listen to\", random.choice(hot_songs))    \n",
    "else:\n",
    "    print(song_name + ' ' + 'is not in the list') "
   ]
  },
  {
   "cell_type": "code",
   "execution_count": null,
   "id": "90505efb",
   "metadata": {},
   "outputs": [],
   "source": []
  }
 ],
 "metadata": {
  "kernelspec": {
   "display_name": "Python 3 (ipykernel)",
   "language": "python",
   "name": "python3"
  },
  "language_info": {
   "codemirror_mode": {
    "name": "ipython",
    "version": 3
   },
   "file_extension": ".py",
   "mimetype": "text/x-python",
   "name": "python",
   "nbconvert_exporter": "python",
   "pygments_lexer": "ipython3",
   "version": "3.9.12"
  }
 },
 "nbformat": 4,
 "nbformat_minor": 5
}
